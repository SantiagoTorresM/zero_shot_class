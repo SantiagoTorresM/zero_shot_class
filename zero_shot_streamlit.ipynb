{
  "cells": [
    {
      "cell_type": "markdown",
      "metadata": {
        "id": "view-in-github",
        "colab_type": "text"
      },
      "source": [
        "<a href=\"https://colab.research.google.com/github/SantiagoTorresM/zero_shot_class/blob/main/zero_shot_streamlit.ipynb\" target=\"_parent\"><img src=\"https://colab.research.google.com/assets/colab-badge.svg\" alt=\"Open In Colab\"/></a>"
      ]
    },
    {
      "cell_type": "code",
      "execution_count": null,
      "metadata": {
        "id": "WavAgB3hfWQx"
      },
      "outputs": [],
      "source": [
        "import pandas as pd"
      ]
    },
    {
      "cell_type": "code",
      "execution_count": null,
      "metadata": {
        "colab": {
          "background_save": true,
          "base_uri": "https://localhost:8080/",
          "referenced_widgets": [
            "a33764b86fb84f44a19930c0d7b23cb7",
            "9749936373eb46c9b121ebfbf03a4350",
            "6a4ef652e2bc428497b9a9f9cb029dc6",
            "91ec0b2d28b94b80a2923c8923957e59",
            "40f969ea5ab64a47ac775a6333e47915",
            "353576ed84964d70a9eadd1d8c00d1df"
          ]
        },
        "id": "ET-7DystdED8",
        "outputId": "339b5869-42a0-4fea-c8d7-40a788277353"
      },
      "outputs": [
        {
          "name": "stdout",
          "output_type": "stream",
          "text": [
            "\u001b[K     |████████████████████████████████| 5.8 MB 30.2 MB/s \n",
            "\u001b[K     |████████████████████████████████| 7.6 MB 61.8 MB/s \n",
            "\u001b[K     |████████████████████████████████| 182 kB 78.6 MB/s \n",
            "\u001b[?25h"
          ]
        },
        {
          "data": {
            "application/vnd.jupyter.widget-view+json": {
              "model_id": "a33764b86fb84f44a19930c0d7b23cb7",
              "version_major": 2,
              "version_minor": 0
            },
            "text/plain": [
              "Downloading:   0%|          | 0.00/1.15k [00:00<?, ?B/s]"
            ]
          },
          "metadata": {
            "application/vnd.jupyter.widget-view+json": {
              "colab": {
                "custom_widget_manager": {
                  "url": "https://ssl.gstatic.com/colaboratory-static/widgets/colab-cdn-widget-manager/b3e629b1971e1542/manager.min.js"
                }
              }
            }
          },
          "output_type": "display_data"
        },
        {
          "data": {
            "application/vnd.jupyter.widget-view+json": {
              "model_id": "9749936373eb46c9b121ebfbf03a4350",
              "version_major": 2,
              "version_minor": 0
            },
            "text/plain": [
              "Downloading:   0%|          | 0.00/1.63G [00:00<?, ?B/s]"
            ]
          },
          "metadata": {
            "application/vnd.jupyter.widget-view+json": {
              "colab": {
                "custom_widget_manager": {
                  "url": "https://ssl.gstatic.com/colaboratory-static/widgets/colab-cdn-widget-manager/b3e629b1971e1542/manager.min.js"
                }
              }
            }
          },
          "output_type": "display_data"
        },
        {
          "data": {
            "application/vnd.jupyter.widget-view+json": {
              "model_id": "6a4ef652e2bc428497b9a9f9cb029dc6",
              "version_major": 2,
              "version_minor": 0
            },
            "text/plain": [
              "Downloading:   0%|          | 0.00/26.0 [00:00<?, ?B/s]"
            ]
          },
          "metadata": {
            "application/vnd.jupyter.widget-view+json": {
              "colab": {
                "custom_widget_manager": {
                  "url": "https://ssl.gstatic.com/colaboratory-static/widgets/colab-cdn-widget-manager/b3e629b1971e1542/manager.min.js"
                }
              }
            }
          },
          "output_type": "display_data"
        },
        {
          "data": {
            "application/vnd.jupyter.widget-view+json": {
              "model_id": "91ec0b2d28b94b80a2923c8923957e59",
              "version_major": 2,
              "version_minor": 0
            },
            "text/plain": [
              "Downloading:   0%|          | 0.00/899k [00:00<?, ?B/s]"
            ]
          },
          "metadata": {
            "application/vnd.jupyter.widget-view+json": {
              "colab": {
                "custom_widget_manager": {
                  "url": "https://ssl.gstatic.com/colaboratory-static/widgets/colab-cdn-widget-manager/b3e629b1971e1542/manager.min.js"
                }
              }
            }
          },
          "output_type": "display_data"
        },
        {
          "data": {
            "application/vnd.jupyter.widget-view+json": {
              "model_id": "40f969ea5ab64a47ac775a6333e47915",
              "version_major": 2,
              "version_minor": 0
            },
            "text/plain": [
              "Downloading:   0%|          | 0.00/456k [00:00<?, ?B/s]"
            ]
          },
          "metadata": {
            "application/vnd.jupyter.widget-view+json": {
              "colab": {
                "custom_widget_manager": {
                  "url": "https://ssl.gstatic.com/colaboratory-static/widgets/colab-cdn-widget-manager/b3e629b1971e1542/manager.min.js"
                }
              }
            }
          },
          "output_type": "display_data"
        },
        {
          "data": {
            "application/vnd.jupyter.widget-view+json": {
              "model_id": "353576ed84964d70a9eadd1d8c00d1df",
              "version_major": 2,
              "version_minor": 0
            },
            "text/plain": [
              "Downloading:   0%|          | 0.00/1.36M [00:00<?, ?B/s]"
            ]
          },
          "metadata": {
            "application/vnd.jupyter.widget-view+json": {
              "colab": {
                "custom_widget_manager": {
                  "url": "https://ssl.gstatic.com/colaboratory-static/widgets/colab-cdn-widget-manager/b3e629b1971e1542/manager.min.js"
                }
              }
            }
          },
          "output_type": "display_data"
        }
      ],
      "source": [
        "\n",
        "#Permitir Custom Widgets\n",
        "from google.colab import output\n",
        "output.enable_custom_widget_manager()\n",
        "\n",
        "#Instalar Librerías\n",
        "!pip install transformers -q\n",
        "\n",
        "#Importar Librerías\n",
        "import pprint\n",
        "from transformers import pipeline\n",
        "from google.colab import output\n",
        "output.enable_custom_widget_manager()\n",
        "\n",
        "#Crear Pipeline de Clasificación\n",
        "classifier = pipeline(\n",
        "    task = \"zero-shot-classification\",\n",
        "    device = 0,\n",
        "    model=\"facebook/bart-large-mnli\"\n",
        ")\n",
        "\n"
      ]
    },
    {
      "cell_type": "code",
      "execution_count": null,
      "metadata": {
        "id": "BT9_X1kyVpWV"
      },
      "outputs": [],
      "source": [
        "n1 = int(input('¿Cuántas categorías vas a plantear?: '))\n",
        "n1"
      ]
    },
    {
      "cell_type": "code",
      "execution_count": null,
      "metadata": {
        "id": "kjdgses2V0qZ"
      },
      "outputs": [],
      "source": [
        "l = []\n",
        "for i in range(n1):\n",
        "  clase = input('Coloque la clase ' + str(i+1) + ': ')\n",
        "  l.append(clase)\n",
        "print('\\n Las clases son: \\n', l)"
      ]
    },
    {
      "cell_type": "code",
      "execution_count": null,
      "metadata": {
        "id": "WTuXTKdHWRag"
      },
      "outputs": [],
      "source": [
        "n2 = int(input('¿Cuántos enunciados va a analizar?: '))\n",
        "n2"
      ]
    },
    {
      "cell_type": "code",
      "execution_count": null,
      "metadata": {
        "id": "8b6hvTBwWesm"
      },
      "outputs": [],
      "source": [
        "w = []\n",
        "for i in range(n2):\n",
        "  clase = input('Inserte su enunciado N° ' + str(i+1) + ': ')\n",
        "  w.append(clase)\n",
        "print('\\n Los enunciados son: \\n', l)"
      ]
    },
    {
      "cell_type": "code",
      "execution_count": null,
      "metadata": {
        "id": "S2zemKkqWxp8"
      },
      "outputs": [],
      "source": [
        "clsf = classifier(w, l, multi_label=True)"
      ]
    },
    {
      "cell_type": "code",
      "execution_count": null,
      "metadata": {
        "id": "xW3Z5KZKg07B"
      },
      "outputs": [],
      "source": [
        "clsf = pd.DataFrame(clsf)"
      ]
    },
    {
      "cell_type": "code",
      "execution_count": null,
      "metadata": {
        "id": "Z0znPmM_epvg"
      },
      "outputs": [],
      "source": [
        "cols = ['sequence','labels','scores']\n",
        "clsf = clsf.explode(['labels','scores']).groupby(cols).size()"
      ]
    },
    {
      "cell_type": "code",
      "execution_count": null,
      "metadata": {
        "id": "PdDZiKiNb9r2"
      },
      "outputs": [],
      "source": [
        "clsf = pd.DataFrame(clsf)"
      ]
    },
    {
      "cell_type": "code",
      "execution_count": null,
      "metadata": {
        "id": "voHoAtkne5pA"
      },
      "outputs": [],
      "source": [
        "clsf = clsf.reset_index()\n",
        "clsf = clsf.iloc[:,0:3]\n",
        "clsf.columns = ['Enunciado', 'Etiqueta', 'Probabilidad']\n",
        "print(clsf)"
      ]
    },
    {
      "cell_type": "code",
      "execution_count": null,
      "metadata": {
        "id": "VPkc2W7ErK5S"
      },
      "outputs": [],
      "source": []
    }
  ],
  "metadata": {
    "accelerator": "GPU",
    "colab": {
      "provenance": [],
      "authorship_tag": "ABX9TyM5MljpbBcQ4mm4xm3mhFpR",
      "include_colab_link": true
    },
    "gpuClass": "standard",
    "kernelspec": {
      "display_name": "Python 3",
      "name": "python3"
    },
    "language_info": {
      "name": "python"
    }
  },
  "nbformat": 4,
  "nbformat_minor": 0
}