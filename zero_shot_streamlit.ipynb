{
  "cells": [
    {
      "cell_type": "markdown",
      "metadata": {
        "id": "view-in-github",
        "colab_type": "text"
      },
      "source": [
        "<a href=\"https://colab.research.google.com/github/SantiagoTorresM/zero_shot_class/blob/main/zero_shot_streamlit.ipynb\" target=\"_parent\"><img src=\"https://colab.research.google.com/assets/colab-badge.svg\" alt=\"Open In Colab\"/></a>"
      ]
    },
    {
      "cell_type": "code",
      "execution_count": null,
      "metadata": {
        "id": "WavAgB3hfWQx"
      },
      "outputs": [],
      "source": [
        "import pandas as pd"
      ]
    },
    {
      "cell_type": "code",
      "execution_count": null,
      "metadata": {
        "id": "ET-7DystdED8"
      },
      "outputs": [],
      "source": [
        "\n",
        "#Permitir Custom Widgets\n",
        "from google.colab import output\n",
        "output.enable_custom_widget_manager()\n",
        "\n",
        "#Instalar Librerías\n",
        "!pip install transformers -q\n",
        "\n",
        "#Importar Librerías\n",
        "import pprint\n",
        "from transformers import pipeline\n",
        "from google.colab import output\n",
        "output.enable_custom_widget_manager()\n",
        "\n",
        "#Crear Pipeline de Clasificación\n",
        "classifier = pipeline(\n",
        "    task = \"zero-shot-classification\",\n",
        "    device = 0,\n",
        "    model=\"facebook/bart-large-mnli\"\n",
        ")\n",
        "\n"
      ]
    },
    {
      "cell_type": "code",
      "execution_count": null,
      "metadata": {
        "id": "BT9_X1kyVpWV",
        "colab": {
          "base_uri": "https://localhost:8080/"
        },
        "outputId": "55c43d70-fc8d-4b31-81be-413491fab9fd"
      },
      "outputs": [
        {
          "name": "stdout",
          "output_type": "stream",
          "text": [
            "¿Cuántas categorías vas a plantear?: 2\n"
          ]
        },
        {
          "output_type": "execute_result",
          "data": {
            "text/plain": [
              "2"
            ]
          },
          "metadata": {},
          "execution_count": 14
        }
      ],
      "source": [
        "n1 = int(input('¿Cuántas categorías vas a plantear?: '))\n",
        "n1"
      ]
    },
    {
      "cell_type": "code",
      "execution_count": null,
      "metadata": {
        "id": "kjdgses2V0qZ"
      },
      "outputs": [],
      "source": [
        "l = []\n",
        "for i in range(n1):\n",
        "  clase = input('Coloque la clase ' + str(i+1) + ': ')\n",
        "  l.append(clase)\n",
        "print('\\n Las clases son: \\n', l)"
      ]
    },
    {
      "cell_type": "code",
      "execution_count": null,
      "metadata": {
        "id": "WTuXTKdHWRag"
      },
      "outputs": [],
      "source": [
        "n2 = int(input('¿Cuántos enunciados va a analizar?: '))\n",
        "n2"
      ]
    },
    {
      "cell_type": "code",
      "execution_count": null,
      "metadata": {
        "id": "8b6hvTBwWesm"
      },
      "outputs": [],
      "source": [
        "w = []\n",
        "for i in range(n2):\n",
        "  clase = input('Inserte su enunciado N° ' + str(i+1) + ': ')\n",
        "  w.append(clase)\n",
        "print('\\n Los enunciados son: \\n', w)"
      ]
    },
    {
      "cell_type": "code",
      "execution_count": null,
      "metadata": {
        "id": "S2zemKkqWxp8"
      },
      "outputs": [],
      "source": [
        "clsf = classifier(w, l, multi_label=True)"
      ]
    },
    {
      "cell_type": "code",
      "execution_count": null,
      "metadata": {
        "id": "xW3Z5KZKg07B"
      },
      "outputs": [],
      "source": [
        "clsf = pd.DataFrame(clsf)"
      ]
    },
    {
      "cell_type": "code",
      "execution_count": null,
      "metadata": {
        "id": "Z0znPmM_epvg"
      },
      "outputs": [],
      "source": [
        "cols = ['sequence','labels','scores']\n",
        "clsf = clsf.explode(['labels','scores']).groupby(cols).size()"
      ]
    },
    {
      "cell_type": "code",
      "execution_count": null,
      "metadata": {
        "id": "PdDZiKiNb9r2"
      },
      "outputs": [],
      "source": [
        "clsf = pd.DataFrame(clsf)"
      ]
    },
    {
      "cell_type": "code",
      "execution_count": null,
      "metadata": {
        "id": "voHoAtkne5pA"
      },
      "outputs": [],
      "source": [
        "clsf = clsf.reset_index()\n",
        "clsf = clsf.iloc[:,0:3]\n",
        "clsf.columns = ['Enunciado', 'Etiqueta', 'Probabilidad']\n",
        "print(clsf)"
      ]
    },
    {
      "cell_type": "code",
      "execution_count": null,
      "metadata": {
        "id": "VPkc2W7ErK5S"
      },
      "outputs": [],
      "source": []
    }
  ],
  "metadata": {
    "accelerator": "GPU",
    "colab": {
      "provenance": [],
      "authorship_tag": "ABX9TyOUEJy2QXZ2VhsXRkeJhIO0",
      "include_colab_link": true
    },
    "gpuClass": "standard",
    "kernelspec": {
      "display_name": "Python 3",
      "name": "python3"
    },
    "language_info": {
      "name": "python"
    }
  },
  "nbformat": 4,
  "nbformat_minor": 0
}